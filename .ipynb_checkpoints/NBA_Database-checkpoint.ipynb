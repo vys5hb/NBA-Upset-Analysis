{
 "cells": [
  {
   "cell_type": "code",
   "execution_count": 74,
   "metadata": {},
   "outputs": [],
   "source": [
    "import pandas as pd\n",
    "import numpy as np"
   ]
  },
  {
   "cell_type": "code",
   "execution_count": 75,
   "metadata": {},
   "outputs": [],
   "source": [
    "# Load the CSV (betting spreads)\n",
    "df = pd.read_csv(\"nba_data/nba_betting_spread.csv\")\n",
    "# Create filtered betting spreads dataset\n",
    "df_betOnline = df[df['book_name'] == 'BetOnline']\n",
    "df_betOnline.to_csv('nba_data/nba_betting_spread_betOnline.csv', index=False)"
   ]
  },
  {
   "cell_type": "code",
   "execution_count": 76,
   "metadata": {},
   "outputs": [],
   "source": [
    "# Load the CSV (betting spreads)\n",
    "df = pd.read_csv('nba_data/nba_betting_spread_betOnline.csv')\n",
    "# Drop unnecessary columns\n",
    "dropped_columns = ['book_name', 'book_id', 'price1', 'price2']\n",
    "df_clean = df.drop(columns=dropped_columns)\n",
    "# Create filtered betting spreads dataset\n",
    "df_clean.to_csv('nba_data/nba_betting_spread_cleaned.csv', index=False)"
   ]
  },
  {
   "cell_type": "code",
   "execution_count": 77,
   "metadata": {},
   "outputs": [],
   "source": [
    "# Load the CSV (all games)\n",
    "df = pd.read_csv(\"nba_data/nba_games_all.csv\")\n",
    "# Create filtered NBA games dataset\n",
    "df_filtered = df[df[\"season_year\"] != 2006]\n",
    "df_filtered.to_csv(\"nba_data/nba_games_all_filtered.csv\", index=False)"
   ]
  },
  {
   "cell_type": "code",
   "execution_count": 78,
   "metadata": {},
   "outputs": [],
   "source": [
    "# Load the CSV (filtered NBA games)\n",
    "df = pd.read_csv(\"nba_data/nba_games_all_filtered.csv\")\n",
    "# Drop unnecessary columns\n",
    "columns_to_drop = [\"game_date\", \"matchup\", \"w\", \"l\", \"season_year\", \"min\", \"fgm\", \"fga\", \"fg_pct\", \"fg3m\", \"fg3a\", \"fg3_pct\", \"ftm\", \"fta\", \"ft_pct\", \"oreb\", \"dreb\", \"reb\", \"ast\", \"stl\", \"blk\", \"tov\", \"pf\", \"pts\", \"season\"]\n",
    "df_cleaned = df.drop(columns=columns_to_drop)\n",
    "# Create filtered NBA games dataset\n",
    "df_cleaned.to_csv(\"nba_data/nba_games_final.csv\", index=False)"
   ]
  },
  {
   "cell_type": "code",
   "execution_count": 79,
   "metadata": {},
   "outputs": [],
   "source": [
    "# Load the CSV (filtered NBA games)\n",
    "games_df = pd.read_csv(\"nba_data/nba_games_final.csv\")\n",
    "# Load the CSV (filtered betting spreads)\n",
    "spreads_df = pd.read_csv(\"nba_data/nba_betting_spread_cleaned.csv\")\n",
    "# Create a universal dataset by merging based on \"game_id\"\n",
    "merged_df = games_df.merge(spreads_df[[\"game_id\", \"spread1\", \"spread2\"]], on=\"game_id\", how=\"left\")\n",
    "merged_df.to_csv(\"nba_data/factors_and_spreads.csv\", index=False)"
   ]
  },
  {
   "cell_type": "code",
   "execution_count": 80,
   "metadata": {},
   "outputs": [],
   "source": [
    "# Load the CSV (final dataset)\n",
    "df = pd.read_csv(\"nba_data/factors_and_spreads.csv\")\n",
    "# Filter the dataset to include only games where spread1 > 0, underdogs\n",
    "df_favorites = df[df[\"spread1\"] > 0]\n",
    "# Drop duplicates based on game_id, keeping only the first occurrence\n",
    "df_favorites_unique = df_favorites.drop_duplicates(subset=[\"game_id\"], keep=\"first\")\n",
    "# Save the final dataset\n",
    "df_favorites_unique.to_csv(\"nba_data/factors_and_spreads.csv\", index=False)"
   ]
  },
  {
   "cell_type": "code",
   "execution_count": 81,
   "metadata": {},
   "outputs": [],
   "source": [
    "# Load the CSV (final dataset)\n",
    "df = pd.read_csv(\"nba_data/factors_and_spreads.csv\")\n",
    "# Remove games where 'w_pct' is NaN\n",
    "df_cleaned = df.dropna(subset=[\"w_pct\"])\n",
    "# Save the final dataset\n",
    "df_cleaned.to_csv(\"nba_data/factors_and_spreads.csv\", index=False)"
   ]
  },
  {
   "cell_type": "code",
   "execution_count": 82,
   "metadata": {},
   "outputs": [],
   "source": [
    "# Load the CSV (final dataset)\n",
    "df = pd.read_csv(\"nba_data/factors_and_spreads.csv\")\n",
    "# Create is_upset column: True if a team with spread1 > 0, wins\n",
    "df[\"is_upset\"] = ((df[\"spread1\"] > 0) & (df[\"wl\"] == \"W\"))\n",
    "# Save the final dataset\n",
    "df.to_csv(\"nba_data/factors_and_spreads.csv\", index=False)"
   ]
  },
  {
   "cell_type": "code",
   "execution_count": 83,
   "metadata": {},
   "outputs": [],
   "source": [
    "# Load the CSV (final dataset)\n",
    "df = pd.read_csv(\"nba_data/factors_and_spreads.csv\")\n",
    "# Remove \"Pre Season\" games\n",
    "df = df[df[\"season_type\"] != \"Pre Season\"]\n",
    "# Save the final dataset\n",
    "df.to_csv(\"nba_data/factors_and_spreads.csv\", index=False)"
   ]
  },
  {
   "cell_type": "code",
   "execution_count": 84,
   "metadata": {},
   "outputs": [],
   "source": [
    "# Playoffs are viewed as the start of a new win percentage in this dataset, so this changes Playoff games' win percentage to their end-of-season record\n",
    "# Load the CSV (final dataset)\n",
    "df = pd.read_csv(\"nba_data/factors_and_spreads.csv\")\n",
    "# Calculate each team's regular-season win percentage\n",
    "regular_season_wpct = (\n",
    "    df[df[\"season_type\"] == \"Regular Season\"]\n",
    "    .groupby(\"team_id\")[\"w_pct\"]\n",
    "    .last()\n",
    ")\n",
    "# Update Playoff games' w_pct to their team's regular-season w_pct\n",
    "df.loc[df[\"season_type\"] == \"Playoffs\", \"w_pct\"] = df[\"team_id\"].map(regular_season_wpct)\n",
    "# Save the final dataset\n",
    "df.to_csv(\"nba_data/factors_and_spreads.csv\", index=False)"
   ]
  },
  {
   "cell_type": "code",
   "execution_count": 85,
   "metadata": {},
   "outputs": [
    {
     "name": "stdout",
     "output_type": "stream",
     "text": [
      "Overall Upset Rate: 49.1002%\n"
     ]
    }
   ],
   "source": [
    "# Load dataset\n",
    "df = pd.read_csv(\"nba_data/factors_and_spreads.csv\")\n",
    "\n",
    "# Check the overall percentage of upsets\n",
    "upset_rate = df[\"is_upset\"].mean()\n",
    "print(f\"Overall Upset Rate: {upset_rate:.4%}\")"
   ]
  },
  {
   "cell_type": "code",
   "execution_count": 86,
   "metadata": {},
   "outputs": [
    {
     "name": "stdout",
     "output_type": "stream",
     "text": [
      "         upsets  games      prop\n",
      "is_home                         \n",
      "False      1325   4698  0.282035\n",
      "True       3204   4526  0.707910\n",
      "An underdog team playing away won 28.20% of the time\n",
      "An underdog team playing at home won 70.79% of the time\n"
     ]
    }
   ],
   "source": [
    "# Load the CSV (final dataset)\n",
    "df = pd.read_csv(\"nba_data/factors_and_spreads.csv\")\n",
    "# Map 't' to True, 'f' to False, and handle NaN values\n",
    "df['is_home'] = df['is_home'].map({'t': True, 'f': False})\n",
    "df['is_home'] = df['is_home'].fillna(False)\n",
    "# Group by 'is_home' and calculate upsets and games\n",
    "upset_summary = df.groupby('is_home').agg(\n",
    "    upsets=('is_upset', 'sum'),\n",
    "    games=('is_upset', 'count')\n",
    ")\n",
    "# Calculate proportion of upsets\n",
    "upset_summary['prop'] = upset_summary['upsets'] / upset_summary['games']\n",
    "# Print the summary table\n",
    "print(upset_summary)\n",
    "print('An underdog team playing away won 28.20% of the time')\n",
    "print('An underdog team playing at home won 70.79% of the time')"
   ]
  },
  {
   "cell_type": "code",
   "execution_count": 87,
   "metadata": {},
   "outputs": [
    {
     "name": "stdout",
     "output_type": "stream",
     "text": [
      "           upsets  games      prop\n",
      "w_pct_bin                         \n",
      "Low           627   2345  0.267377\n",
      "Mid-Low      1024   2272  0.450704\n",
      "Mid-High     1289   2308  0.558492\n",
      "High         1589   2299  0.691170\n",
      "Teams with a win percentage in the bottom 25th percentile win as an underdog 26.74% of the time.\n",
      "Teams with a win percentage in the 25-50th percentile win as an underdog 45.07% of the time.\n",
      "Teams with a win percentage in the 50-75th percentile win as an underdog 55.85% of the time.\n",
      "Teams with a win percentage in the top 25th percentile win as an underdog 69.12% of the time.\n",
      "  home_w_pct_bin  upsets  games      prop\n",
      "0      Away High     297    705  0.421277\n",
      "1       Away Low     315   1728  0.182292\n",
      "2  Away Mid-High     331    986  0.335700\n",
      "3   Away Mid-Low     382   1279  0.298671\n",
      "4      Home High    1292   1594  0.810540\n",
      "5       Home Low     312    617  0.505673\n",
      "6  Home Mid-High     958   1322  0.724660\n",
      "7   Home Mid-Low     642    993  0.646526\n",
      "Teams playing Away with a win percentage in the top 25th percentile win as an underdog 42.13% of the time.\n",
      "Teams playing Away with a win percentage in the bottom 25th percentile win as an underdog 50.57% of the time.\n",
      "Teams playing Away with a win percentage in the 50-75th percentile win as an underdog 33.57% of the time.\n",
      "Teams playing Away with a win percentage in the 25-50th percentile win as an underdog 29.87% of the time.\n",
      "Teams playing at Home with a win percentage in the top 25th percentile win as an underdog 81.05% of the time.\n",
      "Teams playing at Home with a win percentage in the bottom 25th percentile win as an underdog 26.74% of the time.\n",
      "Teams playing at Home with a win percentage in the 50-75th percentile win as an underdog 72.47% of the time.\n",
      "Teams playing at Home with a win percentage in the 25-50th percentile win as an underdog 64.65% of the time.\n"
     ]
    }
   ],
   "source": [
    "# Load the CSV (final dataset)\n",
    "df = pd.read_csv(\"nba_data/factors_and_spreads.csv\")\n",
    "# Map 't' to True, 'f' to False, and handle NaN values for is_home\n",
    "df['is_home'] = df['is_home'].map({'t': True, 'f': False})\n",
    "df['is_home'] = df['is_home'].fillna(False)  # If there are any NaN values, treat them as False\n",
    "# Bin teams into four groups based on win percentage\n",
    "df[\"w_pct_bin\"] = pd.qcut(df[\"w_pct\"], q=4, labels=[\"Low\", \"Mid-Low\", \"Mid-High\", \"High\"])\n",
    "# Create a new column that combines 'is_home' and 'w_pct_bin' for easy grouping\n",
    "df['home_w_pct_bin'] = df['is_home'].map({True: 'Home', False: 'Away'}) + \" \" + df['w_pct_bin'].astype(str)\n",
    "# Group by the new 'home_w_pct_bin' column and calculate upset statistics\n",
    "upset_summary = df.groupby('home_w_pct_bin').agg(\n",
    "    upsets=('is_upset', 'sum'),  # Total upsets\n",
    "    games=('is_upset', 'count')  # Total games\n",
    ")\n",
    "# Bin teams into four groups based on win percentage for additional analysis\n",
    "w_pct_upset_summary = df.groupby(\"w_pct_bin\", observed=False).agg(\n",
    "    upsets=(\"is_upset\", \"sum\"),\n",
    "    games=(\"is_upset\", \"count\")\n",
    ")\n",
    "# Calculate upset proportion\n",
    "w_pct_upset_summary[\"prop\"] = w_pct_upset_summary[\"upsets\"] / w_pct_upset_summary[\"games\"]\n",
    "# Print the results\n",
    "print(w_pct_upset_summary)\n",
    "print('Teams with a win percentage in the bottom 25th percentile win as an underdog 26.74% of the time.')\n",
    "print('Teams with a win percentage in the 25-50th percentile win as an underdog 45.07% of the time.')\n",
    "print('Teams with a win percentage in the 50-75th percentile win as an underdog 55.85% of the time.')\n",
    "print('Teams with a win percentage in the top 25th percentile win as an underdog 69.12% of the time.')\n",
    "# Compute upset proportion\n",
    "upset_summary['prop'] = upset_summary['upsets'] / upset_summary['games']\n",
    "# Reset index for better readability\n",
    "upset_summary = upset_summary.reset_index()\n",
    "# Print the results\n",
    "print(upset_summary)\n",
    "print('Teams playing Away with a win percentage in the top 25th percentile win as an underdog 42.13% of the time.')\n",
    "print('Teams playing Away with a win percentage in the bottom 25th percentile win as an underdog 50.57% of the time.')\n",
    "print('Teams playing Away with a win percentage in the 50-75th percentile win as an underdog 33.57% of the time.')\n",
    "print('Teams playing Away with a win percentage in the 25-50th percentile win as an underdog 29.87% of the time.')\n",
    "print('Teams playing at Home with a win percentage in the top 25th percentile win as an underdog 81.05% of the time.')\n",
    "print('Teams playing at Home with a win percentage in the bottom 25th percentile win as an underdog 26.74% of the time.')\n",
    "print('Teams playing at Home with a win percentage in the 50-75th percentile win as an underdog 72.47% of the time.')\n",
    "print('Teams playing at Home with a win percentage in the 25-50th percentile win as an underdog 64.65% of the time.')"
   ]
  }
 ],
 "metadata": {
  "kernelspec": {
   "display_name": "Python 3",
   "language": "python",
   "name": "python3"
  },
  "language_info": {
   "codemirror_mode": {
    "name": "ipython",
    "version": 3
   },
   "file_extension": ".py",
   "mimetype": "text/x-python",
   "name": "python",
   "nbconvert_exporter": "python",
   "pygments_lexer": "ipython3",
   "version": "3.13.0"
  }
 },
 "nbformat": 4,
 "nbformat_minor": 2
}
